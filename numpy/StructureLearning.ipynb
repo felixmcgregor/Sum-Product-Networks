{
 "cells": [
  {
   "cell_type": "code",
   "execution_count": 22,
   "metadata": {
    "collapsed": true
   },
   "outputs": [],
   "source": [
    "from sklearn.cluster import KMeans\n",
    "from sklearn.decomposition import FastICA\n",
    "\n",
    "import matplotlib.pyplot as plt\n",
    "import numpy as np\n",
    "import matplotlib.mlab as mlab\n",
    "import math"
   ]
  },
  {
   "cell_type": "code",
   "execution_count": 6,
   "metadata": {
    "collapsed": true
   },
   "outputs": [],
   "source": [
    "x1 = np.array([0.0,0.0])\n",
    "x2 = np.array([0.0,1.0])\n",
    "x3 = np.array([1.0,0.0])\n",
    "x4 = np.array([1.0,1.0])\n",
    "data = np.array([x1,x2,x3,x4])"
   ]
  },
  {
   "cell_type": "code",
   "execution_count": 9,
   "metadata": {},
   "outputs": [
    {
     "name": "stdout",
     "output_type": "stream",
     "text": [
      "[1 1 0 0]\n",
      "[[ 1.   0.5]\n",
      " [ 0.   0.5]]\n"
     ]
    }
   ],
   "source": [
    "kmeans = KMeans(n_clusters=2, random_state=0).fit(data)\n",
    "print(kmeans.labels_)\n",
    "kmeans.predict([[0, 0], [4, 4]])\n",
    "print(kmeans.cluster_centers_)"
   ]
  },
  {
   "cell_type": "code",
   "execution_count": 11,
   "metadata": {
    "collapsed": true
   },
   "outputs": [],
   "source": [
    "# Compute ICA\n",
    "ica = FastICA(n_components=2)\n",
    "S_ = ica.fit_transform(data)"
   ]
  },
  {
   "cell_type": "code",
   "execution_count": 12,
   "metadata": {},
   "outputs": [
    {
     "name": "stdout",
     "output_type": "stream",
     "text": [
      "[[-0.5 -0.5]\n",
      " [ 0.5 -0.5]\n",
      " [-0.5  0.5]\n",
      " [ 0.5  0.5]]\n"
     ]
    }
   ],
   "source": [
    "print(S_)"
   ]
  },
  {
   "cell_type": "code",
   "execution_count": 13,
   "metadata": {
    "collapsed": true
   },
   "outputs": [],
   "source": [
    "# generate new dataset\n",
    "x1 = np.array([0.0,0.0,0.0])\n",
    "x2 = np.array([0.0,0.0,1.0])\n",
    "x3 = np.array([0.0,1.0,0.0])\n",
    "x4 = np.array([0.0,1.0,1.0])\n",
    "\n",
    "x5 = np.array([1.0,0.0,0.0])\n",
    "x6 = np.array([1.0,0.0,1.0])\n",
    "x7 = np.array([1.0,1.0,0.0])\n",
    "x8 = np.array([1.0,1.0,1.0])\n",
    "\n",
    "data = []\n",
    "y = []\n",
    "for i in range(10):\n",
    "    data.append(x1)\n",
    "    y.append(0)\n",
    "for i in range(90):\n",
    "    data.append(x2)\n",
    "    y.append(0)\n",
    "for i in range(10):\n",
    "    data.append(x3)\n",
    "    y.append(0)\n",
    "for i in range(90):\n",
    "    data.append(x4)\n",
    "    y.append(0)\n",
    "for i in range(224):\n",
    "    data.append(x5)\n",
    "    y.append(0)\n",
    "for i in range(336):\n",
    "    data.append(x6)\n",
    "    y.append(0)\n",
    "for i in range(96):\n",
    "    data.append(x7)\n",
    "    y.append(0)\n",
    "for i in range(144):\n",
    "    data.append(x8)\n",
    "    y.append(0)\n",
    "# make arrays\n",
    "data = np.array(data)"
   ]
  },
  {
   "cell_type": "code",
   "execution_count": 18,
   "metadata": {},
   "outputs": [
    {
     "data": {
      "text/plain": [
       "FastICA(algorithm='parallel', fun='logcosh', fun_args=None, max_iter=200,\n",
       "    n_components=3, random_state=None, tol=0.0001, w_init=None,\n",
       "    whiten=True)"
      ]
     },
     "execution_count": 18,
     "metadata": {},
     "output_type": "execute_result"
    }
   ],
   "source": [
    "# Compute ICA\n",
    "ica = FastICA(n_components=3)\n",
    "ica.fit(data)"
   ]
  },
  {
   "cell_type": "code",
   "execution_count": 19,
   "metadata": {},
   "outputs": [
    {
     "data": {
      "text/plain": [
       "array([[-0.08152605, -0.01088109, -0.00514158],\n",
       "       [-0.00047815, -0.06684868,  0.00072295],\n",
       "       [ 0.01467418, -0.00011071,  0.06881095]])"
      ]
     },
     "execution_count": 19,
     "metadata": {},
     "output_type": "execute_result"
    }
   ],
   "source": [
    "ica.components_"
   ]
  },
  {
   "cell_type": "markdown",
   "metadata": {
    "collapsed": true
   },
   "source": [
    "# Gaussian dataset"
   ]
  },
  {
   "cell_type": "code",
   "execution_count": 11,
   "metadata": {},
   "outputs": [],
   "source": [
    "mu, sigma = 1, 0.1 # mean and standard deviation\n",
    "s = np.random.normal(mu, sigma, 1)"
   ]
  },
  {
   "cell_type": "code",
   "execution_count": 12,
   "metadata": {},
   "outputs": [
    {
     "name": "stdout",
     "output_type": "stream",
     "text": [
      "[ 0.98097888]\n"
     ]
    }
   ],
   "source": [
    "print(s)"
   ]
  },
  {
   "cell_type": "code",
   "execution_count": 45,
   "metadata": {},
   "outputs": [],
   "source": [
    "mu1, sigma1 = 1, 3\n",
    "mu2, sigma2 = 2, 2\n",
    "mu3, sigma3 = 3, 3\n",
    "def generate_samples(n):\n",
    "    x = (0.75*np.random.normal(mu1, sigma1, n) + 0.25*np.random.normal(mu1, sigma1, n))*np.random.normal(mu1, sigma1, n)\n",
    "    return x.reshape(-1, 1)\n",
    "\n",
    "samples = generate_samples(100)"
   ]
  },
  {
   "cell_type": "code",
   "execution_count": 46,
   "metadata": {},
   "outputs": [
    {
     "data": {
      "image/png": "[encoded data removed]",
      "text/plain": [
       "<matplotlib.figure.Figure at 0x7f167df1f518>"
      ]
     },
     "metadata": {},
     "output_type": "display_data"
    }
   ],
   "source": [
    "plt.plot(samples)\n",
    "plt.show()"
   ]
  },
  {
   "cell_type": "code",
   "execution_count": 47,
   "metadata": {},
   "outputs": [
    {
     "data": {
      "image/png": "[encoded data removed]",
      "text/plain": [
       "<matplotlib.figure.Figure at 0x7f167dea4160>"
      ]
     },
     "metadata": {},
     "output_type": "display_data"
    }
   ],
   "source": [
    "mu = np.mean(samples)\n",
    "variance = np.var(samples)\n",
    "sigma = math.sqrt(variance)\n",
    "x = np.linspace(mu - 3*sigma, mu + 3*sigma, 100)\n",
    "plt.plot(x,mlab.normpdf(x, mu, sigma))\n",
    "plt.show()"
   ]
  },
  {
   "cell_type": "code",
   "execution_count": 50,
   "metadata": {},
   "outputs": [
    {
     "name": "stdout",
     "output_type": "stream",
     "text": [
      "[0 2 0 0 0 0 0 2 0 1 0 1 0 0 1 0 2 0 0 0 0 0 1 0 2 0 1 1 1 0 0 1 2 0 0 2 0\n",
      " 0 0 1 0 0 0 0 0 0 0 0 0 2 0 1 0 2 0 2 0 0 0 2 0 0 0 0 0 2 0 0 1 0 0 0 2 2\n",
      " 0 0 0 0 1 0 0 1 2 0 0 0 0 0 0 0 0 0 0 0 0 2 0 0 0 0]\n",
      "[[  0.77345849]\n",
      " [ 15.4623934 ]\n",
      " [-12.82081391]]\n"
     ]
    }
   ],
   "source": [
    "data = generate_samples(100)\n",
    "data = data.reshape(-1, 1)\n",
    "\n",
    "kmeans = KMeans(n_clusters=3, random_state=0).fit(data)\n",
    "print(kmeans.labels_)\n",
    "kmeans.predict([[0], [4]])\n",
    "print(kmeans.cluster_centers_)"
   ]
  },
  {
   "cell_type": "code",
   "execution_count": null,
   "metadata": {
    "collapsed": true
   },
   "outputs": [],
   "source": [
    "x1 = "
   ]
  },
  {
   "cell_type": "code",
   "execution_count": null,
   "metadata": {
    "collapsed": true
   },
   "outputs": [],
   "source": []
  }
 ],
 "metadata": {
  "kernelspec": {
   "display_name": "Python 3",
   "language": "python",
   "name": "python3"
  },
  "language_info": {
   "codemirror_mode": {
    "name": "ipython",
    "version": 3
   },
   "file_extension": ".py",
   "mimetype": "text/x-python",
   "name": "python",
   "nbconvert_exporter": "python",
   "pygments_lexer": "ipython3",
   "version": "3.6.1"
  }
 },
 "nbformat": 4,
 "nbformat_minor": 2
}

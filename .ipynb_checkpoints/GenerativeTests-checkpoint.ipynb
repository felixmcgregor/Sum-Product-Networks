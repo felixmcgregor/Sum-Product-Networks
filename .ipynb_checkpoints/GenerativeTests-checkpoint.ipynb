{
 "cells": [
  {
   "cell_type": "code",
   "execution_count": 95,
   "metadata": {},
   "outputs": [
    {
     "name": "stdout",
     "output_type": "stream",
     "text": [
      "The autoreload extension is already loaded. To reload it, use:\n",
      "  %reload_ext autoreload\n"
     ]
    }
   ],
   "source": [
    "import numpy as np\n",
    "import random\n",
    "from sklearn.utils import shuffle\n",
    "\n",
    "%load_ext autoreload\n",
    "%autoreload 2\n",
    "\n",
    "from Node import Node\n",
    "from SumNode import SumNode\n",
    "from ProductNode import ProductNode\n",
    "from Node import LeafNode\n",
    "from SPN import SPN"
   ]
  },
  {
   "cell_type": "markdown",
   "metadata": {},
   "source": [
    "# Generative"
   ]
  },
  {
   "cell_type": "code",
   "execution_count": 96,
   "metadata": {
    "collapsed": true
   },
   "outputs": [],
   "source": [
    "x1 = np.array([0.0,0.0,0.0])\n",
    "x2 = np.array([0.0,1.0,0.0])\n",
    "x3 = np.array([1.0,0.0,0.0])\n",
    "x4 = np.array([1.0,1.0,0.0])\n",
    "\n",
    "x5 = np.array([0.0,0.0,1.0])\n",
    "x6 = np.array([0.0,1.0,1.0])\n",
    "x7 = np.array([1.0,0.0,1.0])\n",
    "x8 = np.array([1.0,1.0,1.0])"
   ]
  },
  {
   "cell_type": "markdown",
   "metadata": {},
   "source": [
    "### Define XOR structure"
   ]
  },
  {
   "cell_type": "code",
   "execution_count": 97,
   "metadata": {},
   "outputs": [
    {
     "name": "stdout",
     "output_type": "stream",
     "text": [
      "\n",
      "Node ID 0\n",
      "To node 1 :    0.3571\n",
      "To node 2 :    0.6429\n",
      "\n",
      "Node ID 3\n",
      "To node 7 :    0.7778\n",
      "To node 8 :    0.2222\n",
      "\n",
      "Node ID 4\n",
      "To node 5 :    0.8000\n",
      "To node 6 :    0.2000\n"
     ]
    }
   ],
   "source": [
    "spn = SPN()\n",
    "# root node id = 0\n",
    "root_node = SumNode(0, 0)\n",
    "spn.add_node(root_node)\n",
    "\n",
    "# Product nodes 1 and 2\n",
    "prod_node1 = ProductNode(1, 0)\n",
    "prod_node2 = ProductNode(2, 0)\n",
    "spn.add_node(prod_node1, random.randint(1,9))\n",
    "spn.add_node(prod_node2, random.randint(1,9))\n",
    "\n",
    "# Sum nodes 3 and 4\n",
    "sum_node3 = SumNode(3,1)\n",
    "sum_node4 = SumNode(4,2)\n",
    "spn.add_node(sum_node3)\n",
    "spn.add_node(sum_node4)\n",
    "\n",
    "# Product nodes 5-8\n",
    "prod_node5 = ProductNode(5,4)\n",
    "prod_node6 = ProductNode(6,4)\n",
    "prod_node7 = ProductNode(7,3)\n",
    "prod_node8 = ProductNode(8,3)\n",
    "spn.add_node(prod_node5, random.randint(1,9))\n",
    "spn.add_node(prod_node6, random.randint(1,9))\n",
    "spn.add_node(prod_node7, random.randint(1,9))\n",
    "spn.add_node(prod_node8, random.randint(1,9))\n",
    "\n",
    "# Add leaf nodes\n",
    "X1 = LeafNode(9,np.array([6,7]), 0, False)\n",
    "X_1 = LeafNode(10,np.array([5,8]), 0, True)\n",
    "X2 = LeafNode(11,np.array([5,7]), 1, False)\n",
    "X_2 = LeafNode(12,np.array([6,8]), 1, True)\n",
    "X3 = LeafNode(13,np.array([2]), 2, False)\n",
    "X_3 = LeafNode(14,np.array([1]), 2, True)\n",
    "spn.add_node(X1)\n",
    "spn.add_node(X_1)\n",
    "spn.add_node(X2)\n",
    "spn.add_node(X_2)\n",
    "spn.add_node(X3)\n",
    "spn.add_node(X_3)\n",
    "spn.normalise_weights()\n",
    "spn.print_weights()"
   ]
  },
  {
   "cell_type": "markdown",
   "metadata": {},
   "source": [
    "### Untrained forward pass"
   ]
  },
  {
   "cell_type": "code",
   "execution_count": 98,
   "metadata": {},
   "outputs": [
    {
     "name": "stdout",
     "output_type": "stream",
     "text": [
      "Evaluate Forward Passes\n",
      "Probability x1 0.0793651373016\n",
      "Probability x2 0.0\n",
      "Probability x3 0.0\n",
      "Probability x4 0.27777789127\n",
      "Probability x5 0.0\n",
      "Probability x6 0.514285858571\n",
      "Probability x7 0.128571512857\n",
      "Probability x8 0.0\n",
      "\n",
      "Probability x3=1 given x1's first two indicators 1.0\n",
      "Probability x3=1 given x2's first two indicators 0.0\n",
      "Probability x3=1 given x3's first two indicators 0.0\n",
      "Probability x3=1 given x4's first two indicators 1.0\n",
      "Probability x3=1 given x5's first two indicators 0.0\n",
      "Probability x3=1 given x6's first two indicators 1.0\n",
      "Probability x3=1 given x7's first two indicators 1.0\n",
      "Probability x3=1 given x8's first two indicators 0.0\n"
     ]
    }
   ],
   "source": [
    "print(\"Evaluate Forward Passes\")\n",
    "z = spn.compute_marginal()\n",
    "print(\"Probability x1\",np.exp(spn.evaluate(x1)))\n",
    "print(\"Probability x2\",np.exp(spn.evaluate(x2)))\n",
    "print(\"Probability x3\",np.exp(spn.evaluate(x3)))\n",
    "print(\"Probability x4\",np.exp(spn.evaluate(x4)))\n",
    "print(\"Probability x5\",np.exp(spn.evaluate(x5)))\n",
    "print(\"Probability x6\",np.exp(spn.evaluate(x6)))\n",
    "print(\"Probability x7\",np.exp(spn.evaluate(x7)))\n",
    "print(\"Probability x8\",np.exp(spn.evaluate(x8)))\n",
    "\n",
    "print()\n",
    "print(\"Probability x3=1 given x1's first two indicators\", np.exp(spn.map_inference(x1)))\n",
    "print(\"Probability x3=1 given x2's first two indicators\", np.exp(spn.map_inference(x2)))\n",
    "print(\"Probability x3=1 given x3's first two indicators\", np.exp(spn.map_inference(x3)))\n",
    "print(\"Probability x3=1 given x4's first two indicators\", np.exp(spn.map_inference(x4)))\n",
    "print(\"Probability x3=1 given x5's first two indicators\", np.exp(spn.map_inference(x5)))\n",
    "print(\"Probability x3=1 given x6's first two indicators\", np.exp(spn.map_inference(x6)))\n",
    "print(\"Probability x3=1 given x7's first two indicators\", np.exp(spn.map_inference(x7)))\n",
    "print(\"Probability x3=1 given x8's first two indicators\", np.exp(spn.map_inference(x8)))"
   ]
  },
  {
   "cell_type": "markdown",
   "metadata": {},
   "source": [
    "### Train model"
   ]
  },
  {
   "cell_type": "code",
   "execution_count": 100,
   "metadata": {
    "scrolled": true
   },
   "outputs": [
    {
     "name": "stdout",
     "output_type": "stream",
     "text": [
      "Training...\n",
      "Probability x1 0.246293180029\n",
      "Probability x2 0.0\n",
      "Probability x3 0.0\n",
      "Probability x4 0.25353627759\n",
      "Probability x5 0.0\n",
      "Probability x6 0.253999416064\n",
      "Probability x7 0.246171526317\n",
      "Probability x8 0.0\n",
      "\n",
      "Node ID 0\n",
      "To node 1 :    0.4998\n",
      "To node 2 :    0.5002\n",
      "\n",
      "Node ID 3\n",
      "To node 7 :    0.5072\n",
      "To node 8 :    0.4928\n",
      "\n",
      "Node ID 4\n",
      "To node 5 :    0.5078\n",
      "To node 6 :    0.4922\n"
     ]
    }
   ],
   "source": [
    "data = np.array([x1,x2,x3,x4,x5,x6,x7,x8])\n",
    "\n",
    "print(\"Training...\")\n",
    "for i in range(10):\n",
    "    #spn.generative_hard_gd(data)\n",
    "    spn.generative_soft_gd(data)\n",
    "    \n",
    "print(\"Probability x1\",np.exp(spn.evaluate(x1)))\n",
    "print(\"Probability x2\",np.exp(spn.evaluate(x2)))\n",
    "print(\"Probability x3\",np.exp(spn.evaluate(x3)))\n",
    "print(\"Probability x4\",np.exp(spn.evaluate(x4)))\n",
    "print(\"Probability x5\",np.exp(spn.evaluate(x5)))\n",
    "print(\"Probability x6\",np.exp(spn.evaluate(x6)))\n",
    "print(\"Probability x7\",np.exp(spn.evaluate(x7)))\n",
    "print(\"Probability x8\",np.exp(spn.evaluate(x8)))\n",
    "\n",
    "spn.print_weights()"
   ]
  },
  {
   "cell_type": "code",
   "execution_count": 30,
   "metadata": {},
   "outputs": [
    {
     "name": "stdout",
     "output_type": "stream",
     "text": [
      "Probability x3=1 given x1's first two indicators 1.0\n",
      "Probability x3=1 given x2's first two indicators 0.0\n",
      "Probability x3=1 given x3's first two indicators 0.0\n",
      "Probability x3=1 given x4's first two indicators 1.0\n",
      "Probability x3=1 given x5's first two indicators 0.0\n",
      "Probability x3=1 given x6's first two indicators 1.0\n",
      "Probability x3=1 given x7's first two indicators 1.0\n",
      "Probability x3=1 given x8's first two indicators 0.0\n"
     ]
    }
   ],
   "source": [
    "print(\"Probability x3=1 given x1's first two indicators\", np.exp(spn.map_inference(x1)))\n",
    "print(\"Probability x3=1 given x2's first two indicators\", np.exp(spn.map_inference(x2)))\n",
    "print(\"Probability x3=1 given x3's first two indicators\", np.exp(spn.map_inference(x3)))\n",
    "print(\"Probability x3=1 given x4's first two indicators\", np.exp(spn.map_inference(x4)))\n",
    "print(\"Probability x3=1 given x5's first two indicators\", np.exp(spn.map_inference(x5)))\n",
    "print(\"Probability x3=1 given x6's first two indicators\", np.exp(spn.map_inference(x6)))\n",
    "print(\"Probability x3=1 given x7's first two indicators\", np.exp(spn.map_inference(x7)))\n",
    "print(\"Probability x3=1 given x8's first two indicators\", np.exp(spn.map_inference(x8)))"
   ]
  },
  {
   "cell_type": "markdown",
   "metadata": {},
   "source": [
    "# Example 2"
   ]
  },
  {
   "cell_type": "markdown",
   "metadata": {},
   "source": [
    "### Define Example 2 structure"
   ]
  },
  {
   "cell_type": "code",
   "execution_count": 78,
   "metadata": {},
   "outputs": [
    {
     "name": "stdout",
     "output_type": "stream",
     "text": [
      "(1000, 3)\n"
     ]
    }
   ],
   "source": [
    "# generate new dataset\n",
    "x1 = np.array([0.0,0.0,0.0])\n",
    "x2 = np.array([0.0,0.0,1.0])\n",
    "x3 = np.array([0.0,1.0,0.0])\n",
    "x4 = np.array([0.0,1.0,1.0])\n",
    "\n",
    "x5 = np.array([1.0,0.0,0.0])\n",
    "x6 = np.array([1.0,0.0,1.0])\n",
    "x7 = np.array([1.0,1.0,0.0])\n",
    "x8 = np.array([1.0,1.0,1.0])\n",
    "\n",
    "data = []\n",
    "y = []\n",
    "for i in range(10):\n",
    "    data.append(x1)\n",
    "    y.append(0)\n",
    "for i in range(90):\n",
    "    data.append(x2)\n",
    "    y.append(0)\n",
    "for i in range(10):\n",
    "    data.append(x3)\n",
    "    y.append(0)\n",
    "for i in range(90):\n",
    "    data.append(x4)\n",
    "    y.append(0)\n",
    "for i in range(224):\n",
    "    data.append(x5)\n",
    "for i in range(336):\n",
    "    data.append(x6)\n",
    "for i in range(96):\n",
    "    data.append(x7)\n",
    "for i in range(144):\n",
    "    data.append(x8)\n",
    "# make arrays\n",
    "data = np.array(data)\n",
    "\n",
    "data = shuffle(data, random_state=0)\n",
    "print(data.shape)"
   ]
  },
  {
   "cell_type": "code",
   "execution_count": 82,
   "metadata": {},
   "outputs": [
    {
     "name": "stdout",
     "output_type": "stream",
     "text": [
      "\n",
      "Node ID 0\n",
      "To node 1 :    0.3077\n",
      "To node 2 :    0.6923\n",
      "\n",
      "Node ID 3\n",
      "To node 9 :    0.3636\n",
      "To node 10 :    0.6364\n",
      "\n",
      "Node ID 4\n",
      "To node 9 :    0.5385\n",
      "To node 10 :    0.4615\n",
      "\n",
      "Node ID 5\n",
      "To node 11 :    0.6429\n",
      "To node 12 :    0.3571\n",
      "\n",
      "Node ID 6\n",
      "To node 11 :    0.6667\n",
      "To node 12 :    0.3333\n"
     ]
    }
   ],
   "source": [
    "spn = SPN()\n",
    "# root node id = 0\n",
    "root_node = SumNode(0, 0)\n",
    "spn.add_node(root_node)\n",
    "\n",
    "# Product nodes 1 and 2\n",
    "prod_node1 = ProductNode(1, 0)\n",
    "prod_node2 = ProductNode(2, 0)\n",
    "spn.add_node(prod_node1, random.randint(1,9))\n",
    "spn.add_node(prod_node2, random.randint(1,9))\n",
    "\n",
    "# Sum nodes 3 - 6\n",
    "sum_node3 = SumNode(3,1)\n",
    "sum_node4 = SumNode(4,2)\n",
    "sum_node5 = SumNode(5,1)\n",
    "sum_node6 = SumNode(6,2)\n",
    "spn.add_node(sum_node3)\n",
    "spn.add_node(sum_node4)\n",
    "spn.add_node(sum_node5)\n",
    "spn.add_node(sum_node6)\n",
    "\n",
    "# Add leaf nodes\n",
    "X1 = LeafNode(7,np.array([1]), 0, False)\n",
    "X_1 = LeafNode(8,np.array([2]), 0, True)\n",
    "X2 = LeafNode(9,np.array([3,4]), 1, False)\n",
    "X_2 = LeafNode(10,np.array([3,4]), 1, True)\n",
    "X3 = LeafNode(11,np.array([5,6]), 2, False)\n",
    "X_3 = LeafNode(12,np.array([5,6]), 2, True)\n",
    "spn.add_node(X1,  np.array([random.randint(1,9)]) )\n",
    "spn.add_node(X_1, np.array([random.randint(1,9)]))\n",
    "spn.add_node(X2, np.array([random.randint(1,9), random.randint(1,9)]) )\n",
    "spn.add_node(X_2, np.array([random.randint(1,9), random.randint(1,9)]))\n",
    "spn.add_node(X3, np.array([random.randint(1,9), random.randint(1,9)]))\n",
    "spn.add_node(X_3, np.array([random.randint(1,9), random.randint(1,9)]))\n",
    "\n",
    "spn.normalise_weights()\n",
    "spn.print_weights()"
   ]
  },
  {
   "cell_type": "code",
   "execution_count": 83,
   "metadata": {
    "scrolled": true
   },
   "outputs": [
    {
     "name": "stdout",
     "output_type": "stream",
     "text": [
      "\n",
      "Probability x1 0.010000017\n",
      "Probability x2 0.090000073\n",
      "Probability x3 0.010000017\n",
      "Probability x4 0.090000073\n",
      "Probability x5 0.224000116\n",
      "Probability x6 0.336000146\n",
      "Probability x7 0.096000068\n",
      "Probability x8 0.14400009\n",
      "\n",
      "Node ID 0\n",
      "To node 1 :    0.8000\n",
      "To node 2 :    0.2000\n",
      "\n",
      "Node ID 3\n",
      "To node 9 :    0.3000\n",
      "To node 10 :    0.7000\n",
      "\n",
      "Node ID 4\n",
      "To node 9 :    0.5000\n",
      "To node 10 :    0.5000\n",
      "\n",
      "Node ID 5\n",
      "To node 11 :    0.6000\n",
      "To node 12 :    0.4000\n",
      "\n",
      "Node ID 6\n",
      "To node 11 :    0.9000\n",
      "To node 12 :    0.1000\n",
      "\n",
      "Should be:\n",
      "0: 0.8, 0.2\n",
      "3: 0.3, 0.7\n",
      "4: 0.5, 0.5\n",
      "5: 0.6, 0.4\n",
      "6: 0.9, 0.1\n"
     ]
    }
   ],
   "source": [
    "for i in range(100):\n",
    "    spn.generative_soft_gd(data, batch=True)\n",
    "    #spn.generative_hard_gd(data, batch=False)\n",
    "    \n",
    "print(\"\\nProbability x1\",np.exp(spn.evaluate(x1)))\n",
    "print(\"Probability x2\",np.exp(spn.evaluate(x2)))\n",
    "print(\"Probability x3\",np.exp(spn.evaluate(x3)))\n",
    "print(\"Probability x4\",np.exp(spn.evaluate(x4)))\n",
    "print(\"Probability x5\",np.exp(spn.evaluate(x5)))\n",
    "print(\"Probability x6\",np.exp(spn.evaluate(x6)))\n",
    "print(\"Probability x7\",np.exp(spn.evaluate(x7)))\n",
    "print(\"Probability x8\",np.exp(spn.evaluate(x8)))\n",
    "\n",
    "spn.print_weights()\n",
    "print(\"\\nShould be:\")\n",
    "print(\"0: 0.8, 0.2\")\n",
    "print(\"3: 0.3, 0.7\")\n",
    "print(\"4: 0.5, 0.5\")\n",
    "print(\"5: 0.6, 0.4\")\n",
    "print(\"6: 0.9, 0.1\")"
   ]
  },
  {
   "cell_type": "code",
   "execution_count": null,
   "metadata": {
    "collapsed": true
   },
   "outputs": [],
   "source": []
  },
  {
   "cell_type": "markdown",
   "metadata": {},
   "source": [
    "# Test with correct weights"
   ]
  },
  {
   "cell_type": "code",
   "execution_count": 20,
   "metadata": {},
   "outputs": [
    {
     "name": "stdout",
     "output_type": "stream",
     "text": [
      "\n",
      "Node ID 0\n",
      "To node 1 :    0.8000\n",
      "To node 2 :    0.2000\n",
      "\n",
      "Node ID 3\n",
      "To node 9 :    0.3000\n",
      "To node 10 :    0.7000\n",
      "\n",
      "Node ID 4\n",
      "To node 9 :    0.5000\n",
      "To node 10 :    0.5000\n",
      "\n",
      "Node ID 5\n",
      "To node 11 :    0.6000\n",
      "To node 12 :    0.4000\n",
      "\n",
      "Node ID 6\n",
      "To node 11 :    0.9000\n",
      "To node 12 :    0.1000\n",
      "\n",
      "\n",
      "Probability x1 0.010000017\n",
      "Probability x2 0.090000073\n",
      "Probability x3 0.010000017\n",
      "Probability x4 0.090000073\n",
      "Probability x5 0.224000116\n",
      "Probability x6 0.336000146\n",
      "Probability x7 0.096000068\n",
      "Probability x8 0.14400009\n"
     ]
    }
   ],
   "source": [
    "spn = SPN()\n",
    "# root node id = 0\n",
    "root_node = SumNode(0, 0)\n",
    "spn.add_node(root_node)\n",
    "\n",
    "# Product nodes 1 and 2\n",
    "prod_node1 = ProductNode(1, 0)\n",
    "prod_node2 = ProductNode(2, 0)\n",
    "spn.add_node(prod_node1, 0.8)\n",
    "spn.add_node(prod_node2, 0.2)\n",
    "\n",
    "# Sum nodes 3 - 6\n",
    "sum_node3 = SumNode(3,1)\n",
    "sum_node4 = SumNode(4,2)\n",
    "sum_node5 = SumNode(5,1)\n",
    "sum_node6 = SumNode(6,2)\n",
    "spn.add_node(sum_node3)\n",
    "spn.add_node(sum_node4)\n",
    "spn.add_node(sum_node5)\n",
    "spn.add_node(sum_node6)\n",
    "\n",
    "# Add leaf nodes\n",
    "X1 = LeafNode(7,np.array([1]), 0, False)\n",
    "X_1 = LeafNode(8,np.array([2]), 0, True)\n",
    "X2 = LeafNode(9,np.array([3,4]), 1, False)\n",
    "X_2 = LeafNode(10,np.array([3,4]), 1, True)\n",
    "X3 = LeafNode(11,np.array([5,6]), 2, False)\n",
    "X_3 = LeafNode(12,np.array([5,6]), 2, True)\n",
    "spn.add_node(X1,  np.array([random.randint(1,9)]) )\n",
    "spn.add_node(X_1, np.array([random.randint(1,9)]))\n",
    "spn.add_node(X2, np.array([0.3, 0.5]) )\n",
    "spn.add_node(X_2, np.array([0.7, 0.5]))\n",
    "spn.add_node(X3, np.array([0.6, 0.9]))\n",
    "spn.add_node(X_3, np.array([0.4, 0.1]))\n",
    "\n",
    "spn.normalise_weights()\n",
    "spn.print_weights()\n",
    "print()\n",
    "print(\"\\nProbability x1\",np.exp(spn.evaluate(x1)))\n",
    "print(\"Probability x2\",np.exp(spn.evaluate(x2)))\n",
    "print(\"Probability x3\",np.exp(spn.evaluate(x3)))\n",
    "print(\"Probability x4\",np.exp(spn.evaluate(x4)))\n",
    "print(\"Probability x5\",np.exp(spn.evaluate(x5)))\n",
    "print(\"Probability x6\",np.exp(spn.evaluate(x6)))\n",
    "print(\"Probability x7\",np.exp(spn.evaluate(x7)))\n",
    "print(\"Probability x8\",np.exp(spn.evaluate(x8)))"
   ]
  },
  {
   "cell_type": "code",
   "execution_count": 21,
   "metadata": {},
   "outputs": [
    {
     "name": "stdout",
     "output_type": "stream",
     "text": [
      "Probability x1 -7675281.57952\n",
      "Probability x2 -4013241.73161\n",
      "Probability x3 -7675281.57952\n",
      "Probability x4 -4013241.73161\n",
      "Probability x5 -2493514.76545\n",
      "Probability x6 -1817739.65641\n",
      "Probability x7 -3905677.69022\n",
      "Probability x8 -3229902.58118\n",
      "\n",
      "Node ID 0\n",
      "To node 1 :    0.8000\n",
      "To node 2 :    0.2000\n",
      "\n",
      "Node ID 3\n",
      "To node 9 :    0.3000\n",
      "To node 10 :    0.7000\n",
      "\n",
      "Node ID 4\n",
      "To node 9 :    0.5000\n",
      "To node 10 :    0.5000\n",
      "\n",
      "Node ID 5\n",
      "To node 11 :    0.6000\n",
      "To node 12 :    0.4000\n",
      "\n",
      "Node ID 6\n",
      "To node 11 :    0.9000\n",
      "To node 12 :    0.1000\n"
     ]
    }
   ],
   "source": [
    "for i in range(10):\n",
    "    spn.generative_soft_gd(data)\n",
    "    #spn.generative_hard_gd(data)\n",
    "    spn.normalise_weights()\n",
    "    \n",
    "print(\"Probability x1\",spn.evaluate(x1)/spn.compute_marginal())\n",
    "print(\"Probability x2\",spn.evaluate(x2)/spn.compute_marginal())\n",
    "print(\"Probability x3\",spn.evaluate(x3)/spn.compute_marginal())\n",
    "print(\"Probability x4\",spn.evaluate(x4)/spn.compute_marginal())\n",
    "print(\"Probability x5\",spn.evaluate(x5)/spn.compute_marginal())\n",
    "print(\"Probability x6\",spn.evaluate(x6)/spn.compute_marginal())\n",
    "print(\"Probability x7\",spn.evaluate(x7)/spn.compute_marginal())\n",
    "print(\"Probability x8\",spn.evaluate(x8)/spn.compute_marginal())\n",
    "\n",
    "spn.print_weights()"
   ]
  },
  {
   "cell_type": "code",
   "execution_count": null,
   "metadata": {
    "collapsed": true
   },
   "outputs": [],
   "source": []
  },
  {
   "cell_type": "markdown",
   "metadata": {},
   "source": [
    "# Really Basic Example"
   ]
  },
  {
   "cell_type": "code",
   "execution_count": 85,
   "metadata": {
    "collapsed": true
   },
   "outputs": [],
   "source": [
    "# generate new dataset\n",
    "x1 = np.array([0.0,0.0])\n",
    "x2 = np.array([0.0,1.0])\n",
    "x3 = np.array([1.0,0.0])\n",
    "x4 = np.array([1.0,1.0])\n",
    "\n",
    "\n",
    "data = []\n",
    "for i in range(3):\n",
    "    data.append(x1)\n",
    "for i in range(7):\n",
    "    data.append(x4)\n",
    "    \n",
    "data = np.array(data)\n",
    "data = shuffle(data, random_state=0)"
   ]
  },
  {
   "cell_type": "code",
   "execution_count": 86,
   "metadata": {},
   "outputs": [
    {
     "name": "stdout",
     "output_type": "stream",
     "text": [
      "\n",
      "Node ID 0\n",
      "To node 1 :    0.6364\n",
      "To node 2 :    0.3636\n"
     ]
    }
   ],
   "source": [
    "spn = SPN()\n",
    "# root node id = 0\n",
    "root_node = SumNode(0, 0)\n",
    "spn.add_node(root_node)\n",
    "\n",
    "# Product nodes 1 and 2\n",
    "prod_node1 = ProductNode(1, 0)\n",
    "prod_node2 = ProductNode(2, 0)\n",
    "spn.add_node(prod_node1, random.randint(1,9))\n",
    "spn.add_node(prod_node2, random.randint(1,9))\n",
    "\n",
    "# Add leaf nodes\n",
    "X1 = LeafNode(3, 2, 0, False)\n",
    "X_1 = LeafNode(4, 1, 0, True)\n",
    "X2 = LeafNode(5, 2, 1, False)\n",
    "X_2 = LeafNode(6, 1, 1, True )\n",
    "\n",
    "spn.add_node(X1)\n",
    "spn.add_node(X_1)\n",
    "spn.add_node(X2)\n",
    "spn.add_node(X_2)\n",
    "\n",
    "spn.normalise_weights()\n",
    "spn.print_weights()"
   ]
  },
  {
   "cell_type": "code",
   "execution_count": 94,
   "metadata": {},
   "outputs": [
    {
     "name": "stdout",
     "output_type": "stream",
     "text": [
      "\n",
      "Probability x1 0.636363736364\n",
      "Probability x2 0.0\n",
      "Probability x3 0.0\n",
      "Probability x4 0.363636463636\n",
      "\n",
      "Node ID 0\n",
      "To node 1 :    0.6364\n",
      "To node 2 :    0.3636\n"
     ]
    }
   ],
   "source": [
    "for i in range(5):\n",
    "    spn.generative_soft_gd(data)\n",
    "    #spn.generative_hard_gd(data)\n",
    "    \n",
    "print(\"\\nProbability x1\", np.exp(spn.evaluate(x1)))\n",
    "print(\"Probability x2\", np.exp(spn.evaluate(x2)))\n",
    "print(\"Probability x3\", np.exp(spn.evaluate(x3)))\n",
    "print(\"Probability x4\", np.exp(spn.evaluate(x4)))\n",
    "\n",
    "spn.print_weights()"
   ]
  },
  {
   "cell_type": "code",
   "execution_count": null,
   "metadata": {
    "collapsed": true
   },
   "outputs": [],
   "source": []
  },
  {
   "cell_type": "markdown",
   "metadata": {
    "collapsed": true
   },
   "source": [
    "# Example 3"
   ]
  },
  {
   "cell_type": "code",
   "execution_count": 27,
   "metadata": {},
   "outputs": [
    {
     "name": "stdout",
     "output_type": "stream",
     "text": [
      "(1000, 2)\n"
     ]
    }
   ],
   "source": [
    "# generate new dataset\n",
    "x1 = np.array([0.0,0.0])\n",
    "x2 = np.array([0.0,1.0])\n",
    "x3 = np.array([1.0,0.0])\n",
    "x4 = np.array([1.0,1.0])\n",
    "\n",
    "\n",
    "data = []\n",
    "for i in range(603):\n",
    "    data.append(x1)\n",
    "for i in range(207):\n",
    "    data.append(x2)\n",
    "for i in range(147):\n",
    "    data.append(x3)\n",
    "for i in range(43):\n",
    "    data.append(x4)\n",
    "    \n",
    "data = np.array(data)\n",
    "data = shuffle(data)\n",
    "print(data.shape)"
   ]
  },
  {
   "cell_type": "code",
   "execution_count": 28,
   "metadata": {},
   "outputs": [
    {
     "name": "stdout",
     "output_type": "stream",
     "text": [
      "\n",
      "Node ID 0\n",
      "To node 1 :    0.2222\n",
      "To node 2 :    0.3333\n",
      "To node 3 :    0.4444\n",
      "\n",
      "Node ID 4\n",
      "To node 8 :    0.3636\n",
      "To node 9 :    0.6364\n",
      "\n",
      "Node ID 5\n",
      "To node 8 :    0.9000\n",
      "To node 9 :    0.1000\n",
      "\n",
      "Node ID 6\n",
      "To node 10 :    0.6667\n",
      "To node 11 :    0.3333\n",
      "\n",
      "Node ID 7\n",
      "To node 10 :    0.5000\n",
      "To node 11 :    0.5000\n"
     ]
    }
   ],
   "source": [
    "spn = SPN()\n",
    "# root node id = 0\n",
    "root_node = SumNode(0, 0)\n",
    "spn.add_node(root_node)\n",
    "\n",
    "# Product nodes 1 and 2\n",
    "prod_node1 = ProductNode(1, 0)\n",
    "prod_node2 = ProductNode(2, 0)\n",
    "prod_node3 = ProductNode(3, 0)\n",
    "spn.add_node(prod_node1, random.randint(1,9))\n",
    "spn.add_node(prod_node2, random.randint(1,9))\n",
    "spn.add_node(prod_node3, random.randint(1,9))\n",
    "\n",
    "# Sum nodes 4 - 7\n",
    "\n",
    "sum_node4 = SumNode(4,np.array([1,2]))\n",
    "sum_node5 = SumNode(5,3)\n",
    "sum_node6 = SumNode(6,1)\n",
    "sum_node7 = SumNode(7,np.array([2,3]))\n",
    "\n",
    "spn.add_node(sum_node4)\n",
    "spn.add_node(sum_node5)\n",
    "spn.add_node(sum_node6)\n",
    "spn.add_node(sum_node7)\n",
    "\n",
    "# Add leaf nodes\n",
    "X1 = LeafNode(8,np.array([4,5]), 0, False)\n",
    "X_1 = LeafNode(9,np.array([4,5]), 0, True)\n",
    "X2 = LeafNode(10,np.array([6,7]), 1, False)\n",
    "X_2 = LeafNode(11,np.array([6,7]), 1, True)\n",
    "spn.add_node(X1,  np.array([random.randint(1,9),random.randint(1,9)]) )\n",
    "spn.add_node(X_1, np.array([random.randint(1,9),random.randint(1,9)]))\n",
    "spn.add_node(X2, np.array([random.randint(1,9), random.randint(1,9)]) )\n",
    "spn.add_node(X_2, np.array([random.randint(1,9), random.randint(1,9)]))\n",
    "\n",
    "spn.normalise_weights()\n",
    "spn.print_weights()"
   ]
  },
  {
   "cell_type": "code",
   "execution_count": 31,
   "metadata": {},
   "outputs": [
    {
     "name": "stdout",
     "output_type": "stream",
     "text": [
      "\n",
      "Probability x1 0.922180468754\n",
      "Probability x2 0.057820121246\n",
      "Probability x3 0.018820101746\n",
      "Probability x4 0.00118000825401\n",
      "\n",
      "Node ID 0\n",
      "To node 1 :    0.3340\n",
      "To node 2 :    0.3339\n",
      "To node 3 :    0.3321\n",
      "\n",
      "Node ID 4\n",
      "To node 8 :    0.0200\n",
      "To node 9 :    0.9800\n",
      "\n",
      "Node ID 5\n",
      "To node 8 :    0.0200\n",
      "To node 9 :    0.9800\n",
      "\n",
      "Node ID 6\n",
      "To node 10 :    0.0590\n",
      "To node 11 :    0.9410\n",
      "\n",
      "Node ID 7\n",
      "To node 10 :    0.0590\n",
      "To node 11 :    0.9410\n"
     ]
    }
   ],
   "source": [
    "for i in range(10):\n",
    "    #spn.generative_soft_gd(data)\n",
    "    spn.generative_hard_gd(data)\n",
    "    \n",
    "print(\"\\nProbability x1\", np.exp(spn.evaluate(x1)))\n",
    "print(\"Probability x2\", np.exp(spn.evaluate(x2)))\n",
    "print(\"Probability x3\", np.exp(spn.evaluate(x3)))\n",
    "print(\"Probability x4\", np.exp(spn.evaluate(x4)))\n",
    "\n",
    "\n",
    "spn.print_weights()"
   ]
  },
  {
   "cell_type": "markdown",
   "metadata": {
    "collapsed": true
   },
   "source": [
    "# Example 4"
   ]
  },
  {
   "cell_type": "code",
   "execution_count": 273,
   "metadata": {},
   "outputs": [
    {
     "name": "stdout",
     "output_type": "stream",
     "text": [
      "(10, 2)\n"
     ]
    }
   ],
   "source": [
    "# generate new dataset\n",
    "x1 = np.array([0.0,0.0])\n",
    "x2 = np.array([0.0,1.0])\n",
    "x3 = np.array([1.0,0.0])\n",
    "x4 = np.array([1.0,1.0])\n",
    "\n",
    "\n",
    "data = []\n",
    "for i in range(3):\n",
    "    data.append(x1)\n",
    "for i in range(1):\n",
    "    data.append(x2)\n",
    "for i in range(2):\n",
    "    data.append(x3)\n",
    "for i in range(4):\n",
    "    data.append(x4)\n",
    "    \n",
    "data = np.array(data)\n",
    "data = shuffle(data)\n",
    "print(data.shape)"
   ]
  },
  {
   "cell_type": "code",
   "execution_count": 317,
   "metadata": {},
   "outputs": [
    {
     "name": "stdout",
     "output_type": "stream",
     "text": [
      "\n",
      "Node ID 0\n",
      "To node 1 :    0.3636\n",
      "To node 2 :    0.6364\n",
      "\n",
      "Node ID 3\n",
      "To node 7 :    0.2500\n",
      "To node 8 :    0.7500\n",
      "\n",
      "Node ID 4\n",
      "To node 7 :    0.2500\n",
      "To node 8 :    0.7500\n"
     ]
    }
   ],
   "source": [
    "spn = SPN()\n",
    "# root node id = 0\n",
    "root_node = SumNode(0, 0)\n",
    "spn.add_node(root_node)\n",
    "\n",
    "# Product nodes 1 and 2\n",
    "prod_node1 = ProductNode(1, 0)\n",
    "prod_node2 = ProductNode(2, 0)\n",
    "spn.add_node(prod_node1, random.randint(1,9))\n",
    "spn.add_node(prod_node2, random.randint(1,9))\n",
    "\n",
    "\n",
    "# Sum nodes 4 - 7\n",
    "sum_node3 = SumNode(3,1)\n",
    "sum_node4 = SumNode(4,2)\n",
    "\n",
    "spn.add_node(sum_node3)\n",
    "spn.add_node(sum_node4)\n",
    "\n",
    "# Add leaf nodes\n",
    "X1 = LeafNode(5,1, 0, False)\n",
    "X_1 = LeafNode(6,2, 0, True)\n",
    "X2 = LeafNode(7,np.array([3,4]), 1, False)\n",
    "X_2 = LeafNode(8,np.array([3,4]), 1, True)\n",
    "spn.add_node(X1, random.randint(1,9))\n",
    "spn.add_node(X_1, random.randint(1,9))\n",
    "spn.add_node(X2, random.randint(1,9))\n",
    "spn.add_node(X_2, random.randint(1,9))\n",
    "\n",
    "spn.normalise_weights()\n",
    "spn.print_weights()"
   ]
  },
  {
   "cell_type": "code",
   "execution_count": 318,
   "metadata": {
    "scrolled": true
   },
   "outputs": [
    {
     "ename": "AttributeError",
     "evalue": "'SPN' object has no attribute 'update_weights_gen_hard1'",
     "output_type": "error",
     "traceback": [
      "\u001b[0;31m---------------------------------------------------------------------------\u001b[0m",
      "\u001b[0;31mAttributeError\u001b[0m                            Traceback (most recent call last)",
      "\u001b[0;32m<ipython-input-318-98a2a8274d21>\u001b[0m in \u001b[0;36m<module>\u001b[0;34m()\u001b[0m\n\u001b[1;32m      1\u001b[0m \u001b[0;32mfor\u001b[0m \u001b[0mi\u001b[0m \u001b[0;32min\u001b[0m \u001b[0mrange\u001b[0m\u001b[0;34m(\u001b[0m\u001b[0;36m10\u001b[0m\u001b[0;34m)\u001b[0m\u001b[0;34m:\u001b[0m\u001b[0;34m\u001b[0m\u001b[0m\n\u001b[1;32m      2\u001b[0m     \u001b[0;31m#spn.generative_soft_gd(data)\u001b[0m\u001b[0;34m\u001b[0m\u001b[0;34m\u001b[0m\u001b[0m\n\u001b[0;32m----> 3\u001b[0;31m     \u001b[0mspn\u001b[0m\u001b[0;34m.\u001b[0m\u001b[0mgenerative_hard_gd\u001b[0m\u001b[0;34m(\u001b[0m\u001b[0mdata\u001b[0m\u001b[0;34m)\u001b[0m\u001b[0;34m\u001b[0m\u001b[0m\n\u001b[0m\u001b[1;32m      4\u001b[0m \u001b[0;34m\u001b[0m\u001b[0m\n\u001b[1;32m      5\u001b[0m \u001b[0mprint\u001b[0m\u001b[0;34m(\u001b[0m\u001b[0;34m\"\\nProbability x1\"\u001b[0m\u001b[0;34m,\u001b[0m \u001b[0mnp\u001b[0m\u001b[0;34m.\u001b[0m\u001b[0mexp\u001b[0m\u001b[0;34m(\u001b[0m\u001b[0mspn\u001b[0m\u001b[0;34m.\u001b[0m\u001b[0mevaluate\u001b[0m\u001b[0;34m(\u001b[0m\u001b[0mx1\u001b[0m\u001b[0;34m)\u001b[0m\u001b[0;34m)\u001b[0m\u001b[0;34m)\u001b[0m\u001b[0;34m\u001b[0m\u001b[0m\n",
      "\u001b[0;32m/home/felix/Documents/Experiments/Together/SPN.py\u001b[0m in \u001b[0;36mgenerative_hard_gd\u001b[0;34m(self, data, batch)\u001b[0m\n\u001b[1;32m    106\u001b[0m                 \u001b[0mcount\u001b[0m \u001b[0;34m+=\u001b[0m \u001b[0;36m1\u001b[0m \u001b[0;31m# not true\u001b[0m\u001b[0;34m\u001b[0m\u001b[0m\n\u001b[1;32m    107\u001b[0m             \u001b[0;32melse\u001b[0m\u001b[0;34m:\u001b[0m\u001b[0;34m\u001b[0m\u001b[0m\n\u001b[0;32m--> 108\u001b[0;31m                 \u001b[0mself\u001b[0m\u001b[0;34m.\u001b[0m\u001b[0mupdate_weights_gen_hard1\u001b[0m\u001b[0;34m(\u001b[0m\u001b[0;36m1\u001b[0m\u001b[0;34m,\u001b[0m \u001b[0mlearning_rate\u001b[0m\u001b[0;34m=\u001b[0m\u001b[0;36m0.001\u001b[0m\u001b[0;34m)\u001b[0m\u001b[0;34m\u001b[0m\u001b[0m\n\u001b[0m\u001b[1;32m    109\u001b[0m \u001b[0;34m\u001b[0m\u001b[0m\n\u001b[1;32m    110\u001b[0m         \u001b[0;31m# upadte weight batch\u001b[0m\u001b[0;34m\u001b[0m\u001b[0;34m\u001b[0m\u001b[0m\n",
      "\u001b[0;31mAttributeError\u001b[0m: 'SPN' object has no attribute 'update_weights_gen_hard1'"
     ]
    }
   ],
   "source": [
    "for i in range(10):\n",
    "    #spn.generative_soft_gd(data)\n",
    "    spn.generative_hard_gd(data)\n",
    "\n",
    "print(\"\\nProbability x1\", np.exp(spn.evaluate(x1)))\n",
    "print(\"Probability x2\", np.exp(spn.evaluate(x2)))\n",
    "print(\"Probability x3\", np.exp(spn.evaluate(x3)))\n",
    "print(\"Probability x4\", np.exp(spn.evaluate(x4)))\n",
    "\n",
    "spn.print_weights()"
   ]
  },
  {
   "cell_type": "code",
   "execution_count": null,
   "metadata": {
    "collapsed": true
   },
   "outputs": [],
   "source": []
  },
  {
   "cell_type": "code",
   "execution_count": null,
   "metadata": {
    "collapsed": true
   },
   "outputs": [],
   "source": []
  }
 ],
 "metadata": {
  "kernelspec": {
   "display_name": "Python 3",
   "language": "python",
   "name": "python3"
  },
  "language_info": {
   "codemirror_mode": {
    "name": "ipython",
    "version": 3
   },
   "file_extension": ".py",
   "mimetype": "text/x-python",
   "name": "python",
   "nbconvert_exporter": "python",
   "pygments_lexer": "ipython3",
   "version": "3.6.1"
  }
 },
 "nbformat": 4,
 "nbformat_minor": 2
}

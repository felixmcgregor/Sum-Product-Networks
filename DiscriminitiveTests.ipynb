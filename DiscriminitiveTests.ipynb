{
 "cells": [
  {
   "cell_type": "code",
   "execution_count": 9,
   "metadata": {},
   "outputs": [
    {
     "name": "stdout",
     "output_type": "stream",
     "text": [
      "The autoreload extension is already loaded. To reload it, use:\n",
      "  %reload_ext autoreload\n"
     ]
    }
   ],
   "source": [
    "import numpy as np\n",
    "import random\n",
    "from sklearn.utils import shuffle\n",
    "\n",
    "%load_ext autoreload\n",
    "%autoreload 2\n",
    "\n",
    "from Node import Node\n",
    "from SumNode import SumNode\n",
    "from ProductNode import ProductNode\n",
    "from Node import LeafNode\n",
    "from SPN import SPN"
   ]
  },
  {
   "cell_type": "markdown",
   "metadata": {},
   "source": [
    "# Discriminitive\n",
    "### XOR example"
   ]
  },
  {
   "cell_type": "code",
   "execution_count": 2,
   "metadata": {
    "collapsed": true
   },
   "outputs": [],
   "source": [
    "x1 = np.array([0.0,0.0])\n",
    "x2 = np.array([0.0,1.0])\n",
    "x3 = np.array([1.0,0.0])\n",
    "x4 = np.array([1.0,1.0])\n",
    "\n",
    "x5 = np.array([0.0,0.0])\n",
    "x6 = np.array([0.0,1.0])\n",
    "x7 = np.array([1.0,0.0])\n",
    "x8 = np.array([1.0,1.0])\n",
    "\n",
    "y = np.array([0,0,0,0,1,1,1,1])"
   ]
  },
  {
   "cell_type": "code",
   "execution_count": 7,
   "metadata": {},
   "outputs": [
    {
     "name": "stdout",
     "output_type": "stream",
     "text": [
      "\n",
      "Node ID 0\n",
      "To node 1 :    0.1250\n",
      "To node 2 :    0.8750\n",
      "\n",
      "Node ID 3\n",
      "To node 9 :    0.1667\n",
      "To node 10 :    0.8333\n",
      "\n",
      "Node ID 4\n",
      "To node 9 :    0.1667\n",
      "To node 10 :    0.8333\n",
      "\n",
      "Node ID 5\n",
      "To node 11 :    0.4375\n",
      "To node 12 :    0.5625\n",
      "\n",
      "Node ID 6\n",
      "To node 11 :    0.4375\n",
      "To node 12 :    0.5625\n"
     ]
    }
   ],
   "source": [
    "spn = SPN()\n",
    "# root node id = 0\n",
    "root_node = SumNode(0, 0)\n",
    "spn.add_node(root_node)\n",
    "\n",
    "# Product nodes 1 and 2\n",
    "prod_node1 = ProductNode(1, 0)\n",
    "prod_node2 = ProductNode(2, 0)\n",
    "spn.add_node(prod_node1, random.randint(1,9))\n",
    "spn.add_node(prod_node2, random.randint(1,9))\n",
    "\n",
    "# Sum nodes 3 - 6\n",
    "sum_node3 = SumNode(3,1)\n",
    "sum_node4 = SumNode(4,2)\n",
    "sum_node5 = SumNode(5,1)\n",
    "sum_node6 = SumNode(6,2)\n",
    "spn.add_node(sum_node3)\n",
    "spn.add_node(sum_node4)\n",
    "spn.add_node(sum_node5)\n",
    "spn.add_node(sum_node6)\n",
    "\n",
    "# Add leaf nodes\n",
    "X1 = LeafNode(7,np.array([1]), 0, False)\n",
    "X_1 = LeafNode(8,np.array([2]), 0, True)\n",
    "X2 = LeafNode(9,np.array([3,4]), 1, False)\n",
    "X_2 = LeafNode(10,np.array([3,4]), 1, True)\n",
    "X3 = LeafNode(11,np.array([5,6]), 2, False)\n",
    "X_3 = LeafNode(12,np.array([5,6]), 2, True)\n",
    "spn.add_node(X1, random.randint(1,9))\n",
    "spn.add_node(X_1, random.randint(1,9))\n",
    "spn.add_node(X2, random.randint(1,9))\n",
    "spn.add_node(X_2, random.randint(1,9))\n",
    "spn.add_node(X3, random.randint(1,9))\n",
    "spn.add_node(X_3, random.randint(1,9))\n",
    "spn.normalise_weights()\n",
    "spn.print_weights()"
   ]
  },
  {
   "cell_type": "markdown",
   "metadata": {},
   "source": [
    "### Forward pass untrained"
   ]
  },
  {
   "cell_type": "code",
   "execution_count": 8,
   "metadata": {},
   "outputs": [
    {
     "name": "stdout",
     "output_type": "stream",
     "text": [
      "[ 0.72916698  0.43750001  0.56249999]\n",
      "[ 0.14583347  0.43750001  0.56249999]\n",
      "[ 0.10416678  0.43750001  0.56249999]\n",
      "[ 0.02083337  0.43750001  0.56249999]\n",
      "[ 0.72916698  0.43750001  0.56249999]\n",
      "[ 0.14583347  0.43750001  0.56249999]\n",
      "[ 0.10416678  0.43750001  0.56249999]\n",
      "[ 0.02083337  0.43750001  0.56249999]\n",
      "\n",
      "\n",
      "Node ID 0\n",
      "To node 1 :    0.1250\n",
      "To node 2 :    0.8750\n",
      "\n",
      "Node ID 3\n",
      "To node 9 :    0.1667\n",
      "To node 10 :    0.8333\n",
      "\n",
      "Node ID 4\n",
      "To node 9 :    0.1667\n",
      "To node 10 :    0.8333\n",
      "\n",
      "Node ID 5\n",
      "To node 11 :    0.4375\n",
      "To node 12 :    0.5625\n",
      "\n",
      "Node ID 6\n",
      "To node 11 :    0.4375\n",
      "To node 12 :    0.5625\n"
     ]
    }
   ],
   "source": [
    "print(spn.query(x1))\n",
    "print(spn.query(x2))\n",
    "print(spn.query(x3))\n",
    "print(spn.query(x4))\n",
    "print(spn.query(x5))\n",
    "print(spn.query(x6))\n",
    "print(spn.query(x7))\n",
    "print(spn.query(x8))\n",
    "print()\n",
    "spn.print_weights()"
   ]
  },
  {
   "cell_type": "code",
   "execution_count": 12,
   "metadata": {},
   "outputs": [
    {
     "name": "stdout",
     "output_type": "stream",
     "text": [
      "Training...\n",
      "\n"
     ]
    },
    {
     "ename": "NameError",
     "evalue": "name 'best_guess' is not defined",
     "output_type": "error",
     "traceback": [
      "\u001b[0;31m---------------------------------------------------------------------------\u001b[0m",
      "\u001b[0;31mNameError\u001b[0m                                 Traceback (most recent call last)",
      "\u001b[0;32m<ipython-input-12-6cabc8533d8d>\u001b[0m in \u001b[0;36m<module>\u001b[0;34m()\u001b[0m\n\u001b[1;32m      6\u001b[0m \u001b[0;34m\u001b[0m\u001b[0m\n\u001b[1;32m      7\u001b[0m \u001b[0;34m\u001b[0m\u001b[0m\n\u001b[0;32m----> 8\u001b[0;31m \u001b[0mprint\u001b[0m\u001b[0;34m(\u001b[0m\u001b[0;34m\"Probability x1\"\u001b[0m\u001b[0;34m,\u001b[0m\u001b[0mspn\u001b[0m\u001b[0;34m.\u001b[0m\u001b[0mquery\u001b[0m\u001b[0;34m(\u001b[0m\u001b[0mx1\u001b[0m\u001b[0;34m)\u001b[0m\u001b[0;34m)\u001b[0m\u001b[0;34m\u001b[0m\u001b[0m\n\u001b[0m\u001b[1;32m      9\u001b[0m \u001b[0mprint\u001b[0m\u001b[0;34m(\u001b[0m\u001b[0;34m\"Probability x2\"\u001b[0m\u001b[0;34m,\u001b[0m\u001b[0mspn\u001b[0m\u001b[0;34m.\u001b[0m\u001b[0mquery\u001b[0m\u001b[0;34m(\u001b[0m\u001b[0mx2\u001b[0m\u001b[0;34m)\u001b[0m\u001b[0;34m)\u001b[0m\u001b[0;34m\u001b[0m\u001b[0m\n\u001b[1;32m     10\u001b[0m \u001b[0mprint\u001b[0m\u001b[0;34m(\u001b[0m\u001b[0;34m\"Probability x3\"\u001b[0m\u001b[0;34m,\u001b[0m\u001b[0mspn\u001b[0m\u001b[0;34m.\u001b[0m\u001b[0mquery\u001b[0m\u001b[0;34m(\u001b[0m\u001b[0mx3\u001b[0m\u001b[0;34m)\u001b[0m\u001b[0;34m)\u001b[0m\u001b[0;34m\u001b[0m\u001b[0m\n",
      "\u001b[0;32m/home/felix/Documents/Experiments/Together/SPN.py\u001b[0m in \u001b[0;36mquery\u001b[0;34m(self, evidence)\u001b[0m\n\u001b[1;32m    219\u001b[0m     \u001b[0;32mdef\u001b[0m \u001b[0mquery\u001b[0m\u001b[0;34m(\u001b[0m\u001b[0mself\u001b[0m\u001b[0;34m,\u001b[0m \u001b[0mevidence\u001b[0m\u001b[0;34m)\u001b[0m\u001b[0;34m:\u001b[0m\u001b[0;34m\u001b[0m\u001b[0m\n\u001b[1;32m    220\u001b[0m         \u001b[0mx\u001b[0m \u001b[0;34m=\u001b[0m \u001b[0;34m[\u001b[0m\u001b[0;34m]\u001b[0m\u001b[0;34m\u001b[0m\u001b[0m\n\u001b[0;32m--> 221\u001b[0;31m         \u001b[0mvalue\u001b[0m \u001b[0;34m=\u001b[0m \u001b[0mbest_guess\u001b[0m\u001b[0;34m(\u001b[0m\u001b[0mevidence\u001b[0m\u001b[0;34m)\u001b[0m\u001b[0;34m\u001b[0m\u001b[0m\n\u001b[0m\u001b[1;32m    222\u001b[0m         \u001b[0mx\u001b[0m\u001b[0;34m.\u001b[0m\u001b[0mappend\u001b[0m\u001b[0;34m(\u001b[0m\u001b[0mvalue\u001b[0m\u001b[0;34m)\u001b[0m\u001b[0;34m\u001b[0m\u001b[0m\n\u001b[1;32m    223\u001b[0m \u001b[0;34m\u001b[0m\u001b[0m\n",
      "\u001b[0;31mNameError\u001b[0m: name 'best_guess' is not defined"
     ]
    }
   ],
   "source": [
    "data = np.array([x1,x2,x3,x4,x5,x6,x7,x8])\n",
    "\n",
    "print(\"Training...\\n\")\n",
    "for i in range(10):\n",
    "    spn.discriminitive_hard_gd(data, y)\n",
    "\n",
    "\n",
    "print(\"Probability x1\",spn.query(x1))\n",
    "print(\"Probability x2\",spn.query(x2))\n",
    "print(\"Probability x3\",spn.query(x3))\n",
    "print(\"Probability x4\",spn.query(x4))\n",
    "print(\"Probability x5\",spn.query(x5))\n",
    "print(\"Probability x6\",spn.query(x6))\n",
    "print(\"Probability x7\",spn.query(x7))\n",
    "print(\"Probability x8\",spn.query(x8))\n",
    "\n",
    "\n",
    "spn.print_weights()"
   ]
  }
 ],
 "metadata": {
  "kernelspec": {
   "display_name": "Python 3",
   "language": "python",
   "name": "python3"
  },
  "language_info": {
   "codemirror_mode": {
    "name": "ipython",
    "version": 3
   },
   "file_extension": ".py",
   "mimetype": "text/x-python",
   "name": "python",
   "nbconvert_exporter": "python",
   "pygments_lexer": "ipython3",
   "version": "3.6.1"
  }
 },
 "nbformat": 4,
 "nbformat_minor": 2
}

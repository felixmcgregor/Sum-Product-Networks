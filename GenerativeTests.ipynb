{
 "cells": [
  {
   "cell_type": "code",
   "execution_count": 1,
   "metadata": {
    "collapsed": true
   },
   "outputs": [],
   "source": [
    "import numpy as np\n",
    "import random\n",
    "\n",
    "%load_ext autoreload\n",
    "%autoreload 2\n",
    "\n",
    "from Node import Node\n",
    "from Node import SumNode\n",
    "from Node import ProductNode\n",
    "from Node import LeafNode\n",
    "from SPN import SPN\n",
    "\n",
    "%matplotlib inline"
   ]
  },
  {
   "cell_type": "markdown",
   "metadata": {},
   "source": [
    "# Generative"
   ]
  },
  {
   "cell_type": "code",
   "execution_count": 2,
   "metadata": {
    "collapsed": true
   },
   "outputs": [],
   "source": [
    "x1 = np.array([0.0,0.0,0.0])\n",
    "x2 = np.array([0.0,1.0,0.0])\n",
    "x3 = np.array([1.0,0.0,0.0])\n",
    "x4 = np.array([1.0,1.0,0.0])\n",
    "\n",
    "x5 = np.array([0.0,0.0,1.0])\n",
    "x6 = np.array([0.0,1.0,1.0])\n",
    "x7 = np.array([1.0,0.0,1.0])\n",
    "x8 = np.array([1.0,1.0,1.0])"
   ]
  },
  {
   "cell_type": "markdown",
   "metadata": {},
   "source": [
    "### Define XOR structure"
   ]
  },
  {
   "cell_type": "code",
   "execution_count": 3,
   "metadata": {},
   "outputs": [
    {
     "name": "stdout",
     "output_type": "stream",
     "text": [
      "\n",
      "Node ID 0\n",
      "To node 1 :    0.2000\n",
      "To node 2 :    0.8000\n",
      "\n",
      "Node ID 3\n",
      "To node 7 :    0.5000\n",
      "To node 8 :    0.5000\n",
      "\n",
      "Node ID 4\n",
      "To node 5 :    0.3000\n",
      "To node 6 :    0.7000\n"
     ]
    }
   ],
   "source": [
    "spn = SPN()\n",
    "# root node id = 0\n",
    "root_node = SumNode(0, 0)\n",
    "spn.add_node(root_node)\n",
    "\n",
    "# Product nodes 1 and 2\n",
    "prod_node1 = ProductNode(1, 0)\n",
    "prod_node2 = ProductNode(2, 0)\n",
    "spn.add_node(prod_node1, random.randint(1,9))\n",
    "spn.add_node(prod_node2, random.randint(1,9))\n",
    "\n",
    "# Sum nodes 3 and 4\n",
    "sum_node3 = SumNode(3,1)\n",
    "sum_node4 = SumNode(4,2)\n",
    "spn.add_node(sum_node3)\n",
    "spn.add_node(sum_node4)\n",
    "\n",
    "# Product nodes 5-8\n",
    "prod_node5 = ProductNode(5,4)\n",
    "prod_node6 = ProductNode(6,4)\n",
    "prod_node7 = ProductNode(7,3)\n",
    "prod_node8 = ProductNode(8,3)\n",
    "spn.add_node(prod_node5, random.randint(1,9))\n",
    "spn.add_node(prod_node6, random.randint(1,9))\n",
    "spn.add_node(prod_node7, random.randint(1,9))\n",
    "spn.add_node(prod_node8, random.randint(1,9))\n",
    "\n",
    "# Add leaf nodes\n",
    "X1 = LeafNode(9,np.array([6,7]), 0, False)\n",
    "X_1 = LeafNode(10,np.array([5,8]), 0, True)\n",
    "X2 = LeafNode(11,np.array([5,7]), 1, False)\n",
    "X_2 = LeafNode(12,np.array([6,8]), 1, True)\n",
    "X3 = LeafNode(13,np.array([2]), 2, False)\n",
    "X_3 = LeafNode(14,np.array([1]), 2, True)\n",
    "spn.add_node(X1)\n",
    "spn.add_node(X_1)\n",
    "spn.add_node(X2)\n",
    "spn.add_node(X_2)\n",
    "spn.add_node(X3)\n",
    "spn.add_node(X_3)\n",
    "spn.normalise_weights()\n",
    "spn.print_weights()"
   ]
  },
  {
   "cell_type": "markdown",
   "metadata": {},
   "source": [
    "### Untrained forward pass"
   ]
  },
  {
   "cell_type": "code",
   "execution_count": 4,
   "metadata": {},
   "outputs": [
    {
     "name": "stdout",
     "output_type": "stream",
     "text": [
      "Evaluate Forward Passes\n",
      "0.1\n",
      "0.0\n",
      "0.0\n",
      "0.1\n",
      "0.0\n",
      "0.24\n",
      "0.56\n",
      "0.0\n",
      "\n",
      "parts\n",
      "-2.50103603172\n",
      "-1.87080267657\n",
      "-0.630233355149\n",
      "0.532467532468\n"
     ]
    }
   ],
   "source": [
    "print(\"Evaluate Forward Passes\")\n",
    "z = spn.compute_marginal()\n",
    "print(spn.evaluate(x1))\n",
    "print(spn.evaluate(x2))\n",
    "print(spn.evaluate(x3))\n",
    "print(spn.evaluate(x4))\n",
    "print(spn.evaluate(x5))\n",
    "print(spn.evaluate(x6))\n",
    "print(spn.evaluate(x7))\n",
    "print(spn.evaluate(x8))\n",
    "\n",
    "print()\n",
    "print(spn.map_inference())"
   ]
  },
  {
   "cell_type": "markdown",
   "metadata": {},
   "source": [
    "### Train model"
   ]
  },
  {
   "cell_type": "code",
   "execution_count": 37,
   "metadata": {
    "scrolled": true
   },
   "outputs": [
    {
     "name": "stdout",
     "output_type": "stream",
     "text": [
      "Training...\n",
      "Probability x1 0.24997676937\n",
      "Probability x2 0.0\n",
      "Probability x3 0.0\n",
      "Probability x4 0.24997676937\n",
      "Probability x5 0.0\n",
      "Probability x6 0.244155084163\n",
      "Probability x7 0.255891377096\n",
      "Probability x8 0.0\n",
      "\n",
      "Node ID 0\n",
      "To node 1 :    0.5000\n",
      "To node 2 :    0.5000\n",
      "\n",
      "Node ID 3\n",
      "To node 7 :    0.5000\n",
      "To node 8 :    0.5000\n",
      "\n",
      "Node ID 4\n",
      "To node 5 :    0.4883\n",
      "To node 6 :    0.5117\n"
     ]
    },
    {
     "name": "stderr",
     "output_type": "stream",
     "text": [
      "/home/felix/Documents/Experiments/Together/SPN.py:141: RuntimeWarning: divide by zero encountered in log\n",
      "  d_ds = np.log(output)\n"
     ]
    }
   ],
   "source": [
    "data = np.array([x1,x2,x3,x4,x5,x6,x7,x8])\n",
    "#data = np.array([x1,x2])\n",
    "\n",
    "print(\"Training...\")\n",
    "for i in range(10):\n",
    "    #spn.generative_hard_gd(data)\n",
    "    spn.generative_soft_gd(data)\n",
    "    spn.normalise_weights()\n",
    "    \n",
    "print(\"Probability x1\",spn.evaluate(x1)/spn.compute_marginal())\n",
    "print(\"Probability x2\",spn.evaluate(x2)/spn.compute_marginal())\n",
    "print(\"Probability x3\",spn.evaluate(x3)/spn.compute_marginal())\n",
    "print(\"Probability x4\",spn.evaluate(x4)/spn.compute_marginal())\n",
    "print(\"Probability x5\",spn.evaluate(x5)/spn.compute_marginal())\n",
    "print(\"Probability x6\",spn.evaluate(x6)/spn.compute_marginal())\n",
    "print(\"Probability x7\",spn.evaluate(x7)/spn.compute_marginal())\n",
    "print(\"Probability x8\",spn.evaluate(x8)/spn.compute_marginal())\n",
    "\n",
    "spn.print_weights()"
   ]
  },
  {
   "cell_type": "markdown",
   "metadata": {},
   "source": [
    "# Example 2"
   ]
  },
  {
   "cell_type": "markdown",
   "metadata": {},
   "source": [
    "### Define Example 2 structure"
   ]
  },
  {
   "cell_type": "code",
   "execution_count": 38,
   "metadata": {},
   "outputs": [
    {
     "name": "stdout",
     "output_type": "stream",
     "text": [
      "(1000, 3)\n"
     ]
    }
   ],
   "source": [
    "# generate new dataset\n",
    "x1 = np.array([0.0,0.0,0.0])\n",
    "x2 = np.array([0.0,0.0,1.0])\n",
    "x3 = np.array([0.0,1.0,0.0])\n",
    "x4 = np.array([0.0,1.0,1.0])\n",
    "\n",
    "x5 = np.array([1.0,0.0,0.0])\n",
    "x6 = np.array([1.0,0.0,1.0])\n",
    "x7 = np.array([1.0,1.0,0.0])\n",
    "x8 = np.array([1.0,1.0,1.0])\n",
    "\n",
    "data = []\n",
    "y = []\n",
    "for i in range(10):\n",
    "    data.append(x1)\n",
    "    y.append(0)\n",
    "for i in range(90):\n",
    "    data.append(x2)\n",
    "    y.append(0)\n",
    "for i in range(10):\n",
    "    data.append(x3)\n",
    "    y.append(0)\n",
    "for i in range(90):\n",
    "    data.append(x4)\n",
    "    y.append(0)\n",
    "for i in range(224):\n",
    "    data.append(x5)\n",
    "for i in range(336):\n",
    "    data.append(x6)\n",
    "for i in range(96):\n",
    "    data.append(x7)\n",
    "for i in range(144):\n",
    "    data.append(x8)\n",
    "# make arrays\n",
    "data = np.array(data)\n",
    "random.shuffle(data)\n",
    "print(data.shape)"
   ]
  },
  {
   "cell_type": "code",
   "execution_count": 39,
   "metadata": {},
   "outputs": [
    {
     "name": "stdout",
     "output_type": "stream",
     "text": [
      "\n",
      "Node ID 0\n",
      "To node 1 :    0.6923\n",
      "To node 2 :    0.3077\n",
      "\n",
      "Node ID 3\n",
      "To node 9 :    0.5455\n",
      "To node 10 :    0.4545\n",
      "\n",
      "Node ID 4\n",
      "To node 9 :    0.3333\n",
      "To node 10 :    0.6667\n",
      "\n",
      "Node ID 5\n",
      "To node 11 :    0.6154\n",
      "To node 12 :    0.3846\n",
      "\n",
      "Node ID 6\n",
      "To node 11 :    0.5556\n",
      "To node 12 :    0.4444\n"
     ]
    }
   ],
   "source": [
    "spn = SPN()\n",
    "# root node id = 0\n",
    "root_node = SumNode(0, 0)\n",
    "spn.add_node(root_node)\n",
    "\n",
    "# Product nodes 1 and 2\n",
    "prod_node1 = ProductNode(1, 0)\n",
    "prod_node2 = ProductNode(2, 0)\n",
    "spn.add_node(prod_node1, random.randint(1,9))\n",
    "spn.add_node(prod_node2, random.randint(1,9))\n",
    "\n",
    "# Sum nodes 3 - 6\n",
    "sum_node3 = SumNode(3,1)\n",
    "sum_node4 = SumNode(4,2)\n",
    "sum_node5 = SumNode(5,1)\n",
    "sum_node6 = SumNode(6,2)\n",
    "spn.add_node(sum_node3)\n",
    "spn.add_node(sum_node4)\n",
    "spn.add_node(sum_node5)\n",
    "spn.add_node(sum_node6)\n",
    "\n",
    "# Add leaf nodes\n",
    "X1 = LeafNode(7,np.array([1]), 0, False)\n",
    "X_1 = LeafNode(8,np.array([2]), 0, True)\n",
    "X2 = LeafNode(9,np.array([3,4]), 1, False)\n",
    "X_2 = LeafNode(10,np.array([3,4]), 1, True)\n",
    "X3 = LeafNode(11,np.array([5,6]), 2, False)\n",
    "X_3 = LeafNode(12,np.array([5,6]), 2, True)\n",
    "spn.add_node(X1,  np.array([random.randint(1,9)]) )\n",
    "spn.add_node(X_1, np.array([random.randint(1,9)]))\n",
    "spn.add_node(X2, np.array([random.randint(1,9), random.randint(1,9)]) )\n",
    "spn.add_node(X_2, np.array([random.randint(1,9), random.randint(1,9)]))\n",
    "spn.add_node(X3, np.array([random.randint(1,9), random.randint(1,9)]))\n",
    "spn.add_node(X_3, np.array([random.randint(1,9), random.randint(1,9)]))\n",
    "\n",
    "spn.normalise_weights()\n",
    "spn.print_weights()"
   ]
  },
  {
   "cell_type": "code",
   "execution_count": 42,
   "metadata": {
    "scrolled": true
   },
   "outputs": [
    {
     "name": "stdout",
     "output_type": "stream",
     "text": [
      "Probability x1 0.122205039901\n",
      "Probability x2 0.123325162447\n",
      "Probability x3 0.119754027334\n",
      "Probability x4 0.120851684077\n",
      "Probability x5 0.127243854093\n",
      "Probability x6 0.128849958676\n",
      "Probability x7 0.128076827443\n",
      "Probability x8 0.12969344603\n",
      "\n",
      "Node ID 0\n",
      "To node 1 :    0.5139\n",
      "To node 2 :    0.4861\n",
      "\n",
      "Node ID 3\n",
      "To node 9 :    0.5016\n",
      "To node 10 :    0.4984\n",
      "\n",
      "Node ID 4\n",
      "To node 9 :    0.4949\n",
      "To node 10 :    0.5051\n",
      "\n",
      "Node ID 5\n",
      "To node 11 :    0.5031\n",
      "To node 12 :    0.4969\n",
      "\n",
      "Node ID 6\n",
      "To node 11 :    0.5023\n",
      "To node 12 :    0.4977\n",
      "\n",
      "Should be:\n",
      "0: 0.8, 0.2\n",
      "3: 0.3, 0.7\n",
      "4: 0.5, 0.5\n",
      "5: 0.6, 0.4\n",
      "6: 0.9, 0.1\n"
     ]
    }
   ],
   "source": [
    "for i in range(200):\n",
    "    spn.generative_soft_gd(data)\n",
    "    #spn.generative_hard_gd(data)\n",
    "    spn.normalise_weights()\n",
    "    \n",
    "print(\"Probability x1\",spn.evaluate(x1)/spn.compute_marginal())\n",
    "print(\"Probability x2\",spn.evaluate(x2)/spn.compute_marginal())\n",
    "print(\"Probability x3\",spn.evaluate(x3)/spn.compute_marginal())\n",
    "print(\"Probability x4\",spn.evaluate(x4)/spn.compute_marginal())\n",
    "print(\"Probability x5\",spn.evaluate(x5)/spn.compute_marginal())\n",
    "print(\"Probability x6\",spn.evaluate(x6)/spn.compute_marginal())\n",
    "print(\"Probability x7\",spn.evaluate(x7)/spn.compute_marginal())\n",
    "print(\"Probability x8\",spn.evaluate(x8)/spn.compute_marginal())\n",
    "\n",
    "spn.print_weights()\n",
    "print(\"\\nShould be:\")\n",
    "print(\"0: 0.8, 0.2\")\n",
    "print(\"3: 0.3, 0.7\")\n",
    "print(\"4: 0.5, 0.5\")\n",
    "print(\"5: 0.6, 0.4\")\n",
    "print(\"6: 0.9, 0.1\")"
   ]
  },
  {
   "cell_type": "code",
   "execution_count": 43,
   "metadata": {},
   "outputs": [
    {
     "name": "stdout",
     "output_type": "stream",
     "text": [
      "[ 0.  1.  0.]\n"
     ]
    }
   ],
   "source": [
    "print(x3)"
   ]
  },
  {
   "cell_type": "code",
   "execution_count": null,
   "metadata": {
    "collapsed": true
   },
   "outputs": [],
   "source": []
  },
  {
   "cell_type": "code",
   "execution_count": null,
   "metadata": {
    "collapsed": true
   },
   "outputs": [],
   "source": []
  },
  {
   "cell_type": "markdown",
   "metadata": {},
   "source": [
    "# Test with correct weights"
   ]
  },
  {
   "cell_type": "code",
   "execution_count": 38,
   "metadata": {},
   "outputs": [
    {
     "name": "stdout",
     "output_type": "stream",
     "text": [
      "\n",
      "Node ID 0\n",
      "To node 1 :    0.8000\n",
      "To node 2 :    0.2000\n",
      "\n",
      "Node ID 3\n",
      "To node 9 :    0.3000\n",
      "To node 10 :    0.7000\n",
      "\n",
      "Node ID 4\n",
      "To node 9 :    0.5000\n",
      "To node 10 :    0.5000\n",
      "\n",
      "Node ID 5\n",
      "To node 11 :    0.6000\n",
      "To node 12 :    0.4000\n",
      "\n",
      "Node ID 6\n",
      "To node 11 :    0.9000\n",
      "To node 12 :    0.1000\n",
      "\n",
      "Probability x1 0.01\n",
      "Probability x2 0.09\n",
      "Probability x3 0.01\n",
      "Probability x4 0.09\n",
      "Probability x5 0.224\n",
      "Probability x6 0.336\n",
      "Probability x7 0.096\n",
      "Probability x8 0.144\n"
     ]
    }
   ],
   "source": [
    "spn = SPN()\n",
    "# root node id = 0\n",
    "root_node = SumNode(0, 0)\n",
    "spn.add_node(root_node)\n",
    "\n",
    "# Product nodes 1 and 2\n",
    "prod_node1 = ProductNode(1, 0)\n",
    "prod_node2 = ProductNode(2, 0)\n",
    "spn.add_node(prod_node1, 0.8)\n",
    "spn.add_node(prod_node2, 0.2)\n",
    "\n",
    "# Sum nodes 3 - 6\n",
    "sum_node3 = SumNode(3,1)\n",
    "sum_node4 = SumNode(4,2)\n",
    "sum_node5 = SumNode(5,1)\n",
    "sum_node6 = SumNode(6,2)\n",
    "spn.add_node(sum_node3)\n",
    "spn.add_node(sum_node4)\n",
    "spn.add_node(sum_node5)\n",
    "spn.add_node(sum_node6)\n",
    "\n",
    "# Add leaf nodes\n",
    "X1 = LeafNode(7,np.array([1]), 0, False)\n",
    "X_1 = LeafNode(8,np.array([2]), 0, True)\n",
    "X2 = LeafNode(9,np.array([3,4]), 1, False)\n",
    "X_2 = LeafNode(10,np.array([3,4]), 1, True)\n",
    "X3 = LeafNode(11,np.array([5,6]), 2, False)\n",
    "X_3 = LeafNode(12,np.array([5,6]), 2, True)\n",
    "spn.add_node(X1,  np.array([random.randint(1,9)]) )\n",
    "spn.add_node(X_1, np.array([random.randint(1,9)]))\n",
    "spn.add_node(X2, np.array([0.3, 0.5]) )\n",
    "spn.add_node(X_2, np.array([0.7, 0.5]))\n",
    "spn.add_node(X3, np.array([0.6, 0.9]))\n",
    "spn.add_node(X_3, np.array([0.4, 0.1]))\n",
    "\n",
    "spn.normalise_weights()\n",
    "spn.print_weights()\n",
    "print()\n",
    "print(\"Probability x1\",spn.evaluate(x1)/spn.compute_marginal())\n",
    "print(\"Probability x2\",spn.evaluate(x2)/spn.compute_marginal())\n",
    "print(\"Probability x3\",spn.evaluate(x3)/spn.compute_marginal())\n",
    "print(\"Probability x4\",spn.evaluate(x4)/spn.compute_marginal())\n",
    "print(\"Probability x5\",spn.evaluate(x5)/spn.compute_marginal())\n",
    "print(\"Probability x6\",spn.evaluate(x6)/spn.compute_marginal())\n",
    "print(\"Probability x7\",spn.evaluate(x7)/spn.compute_marginal())\n",
    "print(\"Probability x8\",spn.evaluate(x8)/spn.compute_marginal())"
   ]
  },
  {
   "cell_type": "code",
   "execution_count": 39,
   "metadata": {},
   "outputs": [
    {
     "name": "stdout",
     "output_type": "stream",
     "text": [
      "Probability x1 0.0485139664804\n",
      "Probability x2 0.28548603352\n",
      "Probability x3 0.0294860335196\n",
      "Probability x4 0.17351396648\n",
      "Probability x5 0.235278617711\n",
      "Probability x6 0.198721382289\n",
      "Probability x7 0.0157213822894\n",
      "Probability x8 0.0132786177106\n",
      "\n",
      "Node ID 0\n",
      "To node 1 :    0.4630\n",
      "To node 2 :    0.5370\n",
      "\n",
      "Node ID 3\n",
      "To node 9 :    0.0626\n",
      "To node 10 :    0.9374\n",
      "\n",
      "Node ID 4\n",
      "To node 9 :    0.3780\n",
      "To node 10 :    0.6220\n",
      "\n",
      "Node ID 5\n",
      "To node 11 :    0.4579\n",
      "To node 12 :    0.5421\n",
      "\n",
      "Node ID 6\n",
      "To node 11 :    0.8547\n",
      "To node 12 :    0.1453\n"
     ]
    }
   ],
   "source": [
    "for i in range(10):\n",
    "    #spn.generative_soft_gd(data)\n",
    "    spn.generative_hard_gd(data)\n",
    "    spn.normalise_weights()\n",
    "    \n",
    "print(\"Probability x1\",spn.evaluate(x1)/spn.compute_marginal())\n",
    "print(\"Probability x2\",spn.evaluate(x2)/spn.compute_marginal())\n",
    "print(\"Probability x3\",spn.evaluate(x3)/spn.compute_marginal())\n",
    "print(\"Probability x4\",spn.evaluate(x4)/spn.compute_marginal())\n",
    "print(\"Probability x5\",spn.evaluate(x5)/spn.compute_marginal())\n",
    "print(\"Probability x6\",spn.evaluate(x6)/spn.compute_marginal())\n",
    "print(\"Probability x7\",spn.evaluate(x7)/spn.compute_marginal())\n",
    "print(\"Probability x8\",spn.evaluate(x8)/spn.compute_marginal())\n",
    "\n",
    "spn.print_weights()"
   ]
  },
  {
   "cell_type": "code",
   "execution_count": null,
   "metadata": {
    "collapsed": true
   },
   "outputs": [],
   "source": []
  },
  {
   "cell_type": "markdown",
   "metadata": {},
   "source": [
    "# Desperate Example"
   ]
  },
  {
   "cell_type": "code",
   "execution_count": 40,
   "metadata": {
    "collapsed": true
   },
   "outputs": [],
   "source": [
    "# generate new dataset\n",
    "x1 = np.array([0.0,0.0])\n",
    "x2 = np.array([0.0,1.0])\n",
    "x3 = np.array([1.0,0.0])\n",
    "x4 = np.array([1.0,1.0])\n",
    "\n",
    "\n",
    "data = []\n",
    "for i in range(3):\n",
    "    data.append(x1)\n",
    "for i in range(7):\n",
    "    data.append(x4)\n",
    "    \n",
    "data = np.array(data)"
   ]
  },
  {
   "cell_type": "code",
   "execution_count": 41,
   "metadata": {},
   "outputs": [
    {
     "name": "stdout",
     "output_type": "stream",
     "text": [
      "\n",
      "Node ID 0\n",
      "To node 1 :    0.5294\n",
      "To node 2 :    0.4706\n"
     ]
    }
   ],
   "source": [
    "spn = SPN()\n",
    "# root node id = 0\n",
    "root_node = SumNode(0, 0)\n",
    "spn.add_node(root_node)\n",
    "\n",
    "# Product nodes 1 and 2\n",
    "prod_node1 = ProductNode(1, 0)\n",
    "prod_node2 = ProductNode(2, 0)\n",
    "spn.add_node(prod_node1, random.randint(1,9))\n",
    "spn.add_node(prod_node2, random.randint(1,9))\n",
    "\n",
    "# Add leaf nodes\n",
    "X1 = LeafNode(3, 2, 0, False)\n",
    "X_1 = LeafNode(4, 1, 0, True)\n",
    "X2 = LeafNode(5, 2, 1, False)\n",
    "X_2 = LeafNode(6, 1, 1, True )\n",
    "\n",
    "spn.add_node(X1)\n",
    "spn.add_node(X_1)\n",
    "spn.add_node(X2)\n",
    "spn.add_node(X_2)\n",
    "\n",
    "spn.normalise_weights()\n",
    "spn.print_weights()"
   ]
  },
  {
   "cell_type": "code",
   "execution_count": 42,
   "metadata": {},
   "outputs": [
    {
     "name": "stdout",
     "output_type": "stream",
     "text": [
      "Probability x1 0.300000000009\n",
      "Probability x2 0.0\n",
      "Probability x3 0.0\n",
      "Probability x4 0.699999999991\n",
      "\n",
      "Node ID 0\n",
      "To node 1 :    0.3000\n",
      "To node 2 :    0.7000\n"
     ]
    }
   ],
   "source": [
    "for i in range(10):\n",
    "    #spn.generative_soft_gd(data)\n",
    "    spn.generative_hard_gd(data)\n",
    "    spn.normalise_weights()\n",
    "    \n",
    "print(\"Probability x1\",spn.evaluate(x1)/spn.compute_marginal())\n",
    "print(\"Probability x2\",spn.evaluate(x2)/spn.compute_marginal())\n",
    "print(\"Probability x3\",spn.evaluate(x3)/spn.compute_marginal())\n",
    "print(\"Probability x4\",spn.evaluate(x4)/spn.compute_marginal())\n",
    "\n",
    "spn.print_weights()"
   ]
  },
  {
   "cell_type": "code",
   "execution_count": null,
   "metadata": {
    "collapsed": true
   },
   "outputs": [],
   "source": []
  },
  {
   "cell_type": "markdown",
   "metadata": {
    "collapsed": true
   },
   "source": [
    "# Example 3"
   ]
  },
  {
   "cell_type": "code",
   "execution_count": 57,
   "metadata": {},
   "outputs": [
    {
     "name": "stdout",
     "output_type": "stream",
     "text": [
      "(1000, 2)\n"
     ]
    }
   ],
   "source": [
    "# generate new dataset\n",
    "x1 = np.array([0.0,0.0])\n",
    "x2 = np.array([0.0,1.0])\n",
    "x3 = np.array([1.0,0.0])\n",
    "x4 = np.array([1.0,1.0])\n",
    "\n",
    "\n",
    "data = []\n",
    "for i in range(603):\n",
    "    data.append(x1)\n",
    "for i in range(207):\n",
    "    data.append(x2)\n",
    "for i in range(147):\n",
    "    data.append(x3)\n",
    "for i in range(43):\n",
    "    data.append(x4)\n",
    "    \n",
    "data = np.array(data)\n",
    "random.shuffle(data)\n",
    "print(data.shape)"
   ]
  },
  {
   "cell_type": "code",
   "execution_count": 106,
   "metadata": {},
   "outputs": [
    {
     "name": "stdout",
     "output_type": "stream",
     "text": [
      "\n",
      "Node ID 0\n",
      "To node 1 :    0.2308\n",
      "To node 2 :    0.0769\n",
      "To node 3 :    0.6923\n",
      "\n",
      "Node ID 4\n",
      "To node 8 :    0.4000\n",
      "To node 9 :    0.6000\n",
      "\n",
      "Node ID 5\n",
      "To node 8 :    0.6000\n",
      "To node 9 :    0.4000\n",
      "\n",
      "Node ID 6\n",
      "To node 10 :    0.3333\n",
      "To node 11 :    0.6667\n",
      "\n",
      "Node ID 7\n",
      "To node 10 :    0.6923\n",
      "To node 11 :    0.3077\n"
     ]
    }
   ],
   "source": [
    "spn = SPN()\n",
    "# root node id = 0\n",
    "root_node = SumNode(0, 0)\n",
    "spn.add_node(root_node)\n",
    "\n",
    "# Product nodes 1 and 2\n",
    "prod_node1 = ProductNode(1, 0)\n",
    "prod_node2 = ProductNode(2, 0)\n",
    "prod_node3 = ProductNode(3, 0)\n",
    "spn.add_node(prod_node1, random.randint(1,9))\n",
    "spn.add_node(prod_node2, random.randint(1,9))\n",
    "spn.add_node(prod_node3, random.randint(1,9))\n",
    "\n",
    "# Sum nodes 4 - 7\n",
    "\n",
    "sum_node4 = SumNode(4,np.array([1,2]))\n",
    "sum_node5 = SumNode(5,3)\n",
    "sum_node6 = SumNode(6,1)\n",
    "sum_node7 = SumNode(7,np.array([2,3]))\n",
    "\n",
    "spn.add_node(sum_node4)\n",
    "spn.add_node(sum_node5)\n",
    "spn.add_node(sum_node6)\n",
    "spn.add_node(sum_node7)\n",
    "\n",
    "# Add leaf nodes\n",
    "X1 = LeafNode(8,np.array([4,5]), 0, False)\n",
    "X_1 = LeafNode(9,np.array([4,5]), 0, True)\n",
    "X2 = LeafNode(10,np.array([6,7]), 1, False)\n",
    "X_2 = LeafNode(11,np.array([6,7]), 1, True)\n",
    "spn.add_node(X1,  np.array([random.randint(1,9),random.randint(1,9)]) )\n",
    "spn.add_node(X_1, np.array([random.randint(1,9),random.randint(1,9)]))\n",
    "spn.add_node(X2, np.array([random.randint(1,9), random.randint(1,9)]) )\n",
    "spn.add_node(X_2, np.array([random.randint(1,9), random.randint(1,9)]))\n",
    "\n",
    "spn.normalise_weights()\n",
    "spn.print_weights()"
   ]
  },
  {
   "cell_type": "code",
   "execution_count": 115,
   "metadata": {},
   "outputs": [
    {
     "name": "stdout",
     "output_type": "stream",
     "text": [
      "Probability x1 1.0\n",
      "Probability x2 1.0\n",
      "Probability x3 1.0\n",
      "Probability x4 1.0\n"
     ]
    }
   ],
   "source": [
    "for i in range(10):\n",
    "    spn.generative_soft_gd(data)\n",
    "    #spn.generative_hard_gd(data)\n",
    "    spn.normalise_weights()\n",
    "    \n",
    "print(\"Probability x1\",spn.evaluate(x1))\n",
    "print(\"Probability x2\",spn.evaluate(x2)/spn.compute_marginal())\n",
    "print(\"Probability x3\",spn.evaluate(x3)/spn.compute_marginal())\n",
    "print(\"Probability x4\",spn.evaluate(x4)/spn.compute_marginal())\n",
    "\n",
    "\n",
    "spn.print_weights()"
   ]
  },
  {
   "cell_type": "code",
   "execution_count": null,
   "metadata": {
    "collapsed": true
   },
   "outputs": [],
   "source": []
  },
  {
   "cell_type": "code",
   "execution_count": 114,
   "metadata": {},
   "outputs": [
    {
     "name": "stdout",
     "output_type": "stream",
     "text": [
      "-0.69314718056\n",
      "0.5\n"
     ]
    }
   ],
   "source": [
    "x = np.log(0.5)\n",
    "y = Node.LOG_ZERO\n",
    "print (np.logaddexp(x,y))\n",
    "print (np.exp(np.logaddexp(x,y)))"
   ]
  },
  {
   "cell_type": "code",
   "execution_count": null,
   "metadata": {
    "collapsed": true
   },
   "outputs": [],
   "source": []
  }
 ],
 "metadata": {
  "kernelspec": {
   "display_name": "Python 3",
   "language": "python",
   "name": "python3"
  },
  "language_info": {
   "codemirror_mode": {
    "name": "ipython",
    "version": 3
   },
   "file_extension": ".py",
   "mimetype": "text/x-python",
   "name": "python",
   "nbconvert_exporter": "python",
   "pygments_lexer": "ipython3",
   "version": "3.6.1"
  }
 },
 "nbformat": 4,
 "nbformat_minor": 2
}
